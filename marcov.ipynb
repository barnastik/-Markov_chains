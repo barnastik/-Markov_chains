{
  "nbformat": 4,
  "nbformat_minor": 0,
  "metadata": {
    "colab": {
      "provenance": []
    },
    "kernelspec": {
      "name": "python3",
      "display_name": "Python 3"
    },
    "language_info": {
      "name": "python"
    }
  },
  "cells": [
    {
      "cell_type": "markdown",
      "source": [
        "Обработка данных"
      ],
      "metadata": {
        "id": "E-vv-7fo7xmo"
      }
    },
    {
      "cell_type": "code",
      "source": [
        "import numpy as np\n",
        "import pandas as pd\n",
        "\n",
        "filename = 'worklist.csv'\n",
        "sep1 = ';'\n",
        "start_state = 'start General course'\n",
        "end_states = ['Finished course', 'Dropped General', 'fell asleep']\n",
        "steps = 1000\n",
        "\n",
        "# Чтение данных без заголовков\n",
        "df = pd.read_csv(filename, sep=sep1, header=None)\n",
        "\n",
        "# Задание имен столбцов вручную\n",
        "df.columns = ['student_id', 'state', 'event_time']\n",
        "\n",
        "# Преобразование времени событий и сортировка\n",
        "df['event_time'] = df['event_time'].str.replace(',', '.').astype(float)\n",
        "df = df.sort_values(by=['student_id', 'event_time'])\n",
        "\n",
        "states = df['state'].unique().tolist()\n",
        "\n",
        "# Создание матрицы переходов\n",
        "calc_matrix = np.zeros((len(states), len(states)), dtype=int)\n",
        "\n",
        "for i in range(len(df) - 1):\n",
        "    if df.iloc[i]['student_id'] == df.iloc[i + 1]['student_id']:\n",
        "        from_state = df.iloc[i]['state']\n",
        "        to_state = df.iloc[i + 1]['state']\n",
        "        calc_matrix[states.index(from_state), states.index(to_state)] += 1\n",
        "\n",
        "for end_state in end_states:\n",
        "    calc_matrix[states.index(end_state), :] = 0\n",
        "\n",
        "TransitionMatrix = np.zeros_like(calc_matrix, dtype=float)\n",
        "\n",
        "for i in range(len(calc_matrix)):\n",
        "    row_sum = calc_matrix[i].sum()\n",
        "    if row_sum > 0:\n",
        "        TransitionMatrix[i] = calc_matrix[i] / row_sum\n",
        "\n",
        "# Обработка конечных состояний\n",
        "for i in range(len(TransitionMatrix)):\n",
        "    if TransitionMatrix[i].sum() == 0:\n",
        "        TransitionMatrix[i, i] = 1\n",
        "\n",
        "# Начальный вектор\n",
        "InitialVector = np.zeros(len(states))\n",
        "InitialVector[states.index(start_state)] = 1\n",
        "\n",
        "# Расчет вероятностей\n",
        "ProbabilityMatrix = np.linalg.matrix_power(TransitionMatrix, steps)\n",
        "ProbabilityVector = np.dot(InitialVector, ProbabilityMatrix)\n",
        "\n",
        "# Округление вероятностей\n",
        "ProbabilityVector = np.round(ProbabilityVector, 2)\n",
        "Result = dict(zip(states, ProbabilityVector))\n",
        "print('\\nProbability Vector:\\n', Result)\n",
        "\n",
        "# Вероятностная матрица\n",
        "ProbabilityMatrix = np.linalg.matrix_power(TransitionMatrix, steps)"
      ],
      "metadata": {
        "colab": {
          "base_uri": "https://localhost:8080/"
        },
        "id": "Wr5s8iddIEC4",
        "outputId": "c89fa305-3d53-43d0-a478-7bc8a450d12a"
      },
      "execution_count": null,
      "outputs": [
        {
          "output_type": "stream",
          "name": "stdout",
          "text": [
            "\n",
            "Probability Vector:\n",
            " {'start General course': 0.0, 'successful class': 0.0, 'Dropped General': 0.29, 'level up': 0.0, 'Finished course': 0.15, 'fell asleep': 0.56, 'App session': 0.0, 'level down': 0.0}\n"
          ]
        }
      ]
    },
    {
      "cell_type": "markdown",
      "source": [
        "Делаем вывод по вероятностям:\n",
        "\n",
        "Finished course: 0.148431\n",
        "\n",
        "Dropped General: 0.294281\n",
        "\n",
        "fell asleep: 0.557288"
      ],
      "metadata": {
        "id": "ivd5u42G6xkQ"
      }
    },
    {
      "cell_type": "markdown",
      "source": [
        "Граф"
      ],
      "metadata": {
        "id": "O1_03wZr7Uto"
      }
    },
    {
      "cell_type": "markdown",
      "source": [
        "Создание графа"
      ],
      "metadata": {
        "id": "KcqgtEVJ7PbD"
      }
    },
    {
      "cell_type": "code",
      "source": [
        "!apt-get install graphviz\n",
        "!pip install pydot pillow"
      ],
      "metadata": {
        "colab": {
          "base_uri": "https://localhost:8080/"
        },
        "id": "JNkPYTZU7dhj",
        "outputId": "392e4a2b-9992-4d77-bc13-af350a407616"
      },
      "execution_count": null,
      "outputs": [
        {
          "output_type": "stream",
          "name": "stdout",
          "text": [
            "Reading package lists... Done\n",
            "Building dependency tree... Done\n",
            "Reading state information... Done\n",
            "graphviz is already the newest version (2.42.2-6).\n",
            "0 upgraded, 0 newly installed, 0 to remove and 45 not upgraded.\n",
            "Requirement already satisfied: pydot in /usr/local/lib/python3.10/dist-packages (1.4.2)\n",
            "Requirement already satisfied: pillow in /usr/local/lib/python3.10/dist-packages (9.4.0)\n",
            "Requirement already satisfied: pyparsing>=2.1.4 in /usr/local/lib/python3.10/dist-packages (from pydot) (3.1.2)\n"
          ]
        }
      ]
    },
    {
      "cell_type": "code",
      "source": [
        "import networkx as nx\n",
        "\n",
        "G = nx.MultiDiGraph()\n",
        "\n",
        "for i in range(len(TransitionMatrix)):\n",
        "    for j in range(len(TransitionMatrix)):\n",
        "        if round(TransitionMatrix[i][j], 2) != 0:\n",
        "            G.add_edge(states[i], states[j], weight=round(TransitionMatrix[i][j], 2), label=\"{:.02f}\".format(TransitionMatrix[i][j]))\n",
        "\n",
        "# Добавление размеров (вероятностей) к узлам графа\n",
        "for i in range(len(TransitionMatrix)):\n",
        "    G.add_node(states[i], size=int(ProbabilityVector[i] * 100))\n",
        "\n",
        "# Сохранение графа в файл .gexf\n",
        "nx.write_gexf(G, \"Graph.gexf\")"
      ],
      "metadata": {
        "id": "SHTeV0IzXuGu"
      },
      "execution_count": null,
      "outputs": []
    },
    {
      "cell_type": "markdown",
      "source": [
        "Сохранение графа"
      ],
      "metadata": {
        "id": "kEK2C8H77S1y"
      }
    },
    {
      "cell_type": "code",
      "source": [
        "import pydot\n",
        "import fitz\n",
        "from PIL import Image\n",
        "# Сохранение графа в файл .dot\n",
        "nx.drawing.nx_pydot.write_dot(G, \"Graph.dot\")\n",
        "\n",
        "# Преобразование графа в PDF\n",
        "(graph,) = pydot.graph_from_dot_file('Graph.dot')\n",
        "graph.write_pdf('Graph.pdf')"
      ],
      "metadata": {
        "id": "vAis9uoyXoSv"
      },
      "execution_count": null,
      "outputs": []
    },
    {
      "cell_type": "markdown",
      "source": [
        "Расчет по формулам"
      ],
      "metadata": {
        "id": "kIIrT2-WjE10"
      }
    },
    {
      "cell_type": "code",
      "source": [
        "transient_states = [state for state in states if state not in end_states]\n",
        "Q = np.zeros((len(transient_states), len(transient_states)))\n",
        "\n",
        "for i, state1 in enumerate(transient_states):\n",
        "    for j, state2 in enumerate(transient_states):\n",
        "        Q[i, j] = TransitionMatrix[states.index(state1), states.index(state2)]\n",
        "\n",
        "R_matrix = np.zeros((len(transient_states), len(end_states)))\n",
        "for i, state1 in enumerate(transient_states):\n",
        "    for j, state2 in enumerate(end_states):\n",
        "        R_matrix[i, j] = TransitionMatrix[states.index(state1), states.index(state2)]\n",
        "\n",
        "# Находим матрицу фундаментальных состояний\n",
        "I = np.eye(len(transient_states))\n",
        "N = np.linalg.inv(I - Q)\n",
        "\n",
        "# Математическое ожидание времени до поглощения\n",
        "expected_times = N.sum(axis=1)\n",
        "\n",
        "# Дисперсия времени до поглощения\n",
        "var_times = (2 * N - I).dot(expected_times) - expected_times**2\n",
        "\n",
        "# Результаты\n",
        "expected_time_to_absorption = dict(zip(transient_states, expected_times))\n",
        "variance_time_to_absorption = dict(zip(transient_states, var_times))\n",
        "\n",
        "print('\\nExpected Time to Absorption:\\n', expected_time_to_absorption['start General course'])\n",
        "print('\\nVariance of Time to Absorption:\\n', variance_time_to_absorption['start General course'])"
      ],
      "metadata": {
        "colab": {
          "base_uri": "https://localhost:8080/"
        },
        "id": "aH1dfUXui2SV",
        "outputId": "7f6c5a29-a354-4439-cd00-1824414366e4"
      },
      "execution_count": null,
      "outputs": [
        {
          "output_type": "stream",
          "name": "stdout",
          "text": [
            "\n",
            "Expected Time to Absorption:\n",
            " 21.62065082733475\n",
            "\n",
            "Variance of Time to Absorption:\n",
            " 441.12230685916813\n"
          ]
        }
      ]
    },
    {
      "cell_type": "markdown",
      "source": [
        "Моделирование"
      ],
      "metadata": {
        "id": "PQJBYGAujRW0"
      }
    },
    {
      "cell_type": "code",
      "source": [
        "import numpy as np\n",
        "\n",
        "num_simulations = 100000  # Количество симуляций\n",
        "\n",
        "# Функция для моделирования процесса\n",
        "def simulate_chain(transition_matrix, states, start_state, end_states, max_steps=1000):\n",
        "    current_state = start_state\n",
        "    time = 0\n",
        "    while current_state not in end_states and time < max_steps:\n",
        "        current_index = states.index(current_state)\n",
        "        next_state = np.random.choice(states, p=transition_matrix[current_index])\n",
        "        current_state = next_state\n",
        "        time += 1\n",
        "    return current_state, time # Возвращаем достигнутое состояние и время\n",
        "\n",
        "# Счетчики для конечных состояний\n",
        "end_state_counts = {end_state: 0 for end_state in end_states}\n",
        "times_to_absorption = []\n",
        "\n",
        "# Моделирование симуляций\n",
        "for _ in range(num_simulations):\n",
        "    end_state, time = simulate_chain(TransitionMatrix, states, start_state, end_states, steps)\n",
        "    end_state_counts[end_state] += 1\n",
        "    times_to_absorption.append(time)\n",
        "\n",
        "# Расчет вероятностей попадания в каждое конечное состояние\n",
        "probabilities = {end_state: count / num_simulations for end_state, count in end_state_counts.items()}\n",
        "\n",
        "# Рассчет математического ожидания и дисперсии\n",
        "expected_time = np.mean(times_to_absorption)\n",
        "variance_time = np.var(times_to_absorption)\n",
        "\n",
        "# Вывод результатов\n",
        "print('\\nExpected Time to Absorption:', expected_time)\n",
        "print('Variance of Time to Absorption:', variance_time)\n",
        "print('\\nProbabilities of Reaching Each End State:')\n",
        "for end_state, probability in probabilities.items():\n",
        "    print(f'{end_state}: {probability:.4f}')\n"
      ],
      "metadata": {
        "colab": {
          "base_uri": "https://localhost:8080/"
        },
        "id": "xtOtTMpm3Yf2",
        "outputId": "3d4ed547-c6c4-4196-fad4-2f23446fdff1"
      },
      "execution_count": null,
      "outputs": [
        {
          "output_type": "stream",
          "name": "stdout",
          "text": [
            "\n",
            "Expected Time to Absorption: 21.58539\n",
            "Variance of Time to Absorption: 440.34006854790005\n",
            "\n",
            "Probabilities of Reaching Each End State:\n",
            "Finished course: 0.1487\n",
            "Dropped General: 0.2932\n",
            "fell asleep: 0.5581\n"
          ]
        }
      ]
    },
    {
      "cell_type": "markdown",
      "source": [
        "Итог"
      ],
      "metadata": {
        "id": "MJUcnor7kbZM"
      }
    },
    {
      "cell_type": "markdown",
      "source": [
        "Ниже приведена разность расчетных значений со значениями, полученными моделированием."
      ],
      "metadata": {
        "id": "R5-iq9rZ7FAk"
      }
    },
    {
      "cell_type": "code",
      "source": [
        "print('\\nExpected Time to Absorption:', expected_time_to_absorption['start General course'] - expected_time)\n",
        "print('Variance of Time to Absorption:', variance_time_to_absorption['start General course'] - variance_time)\n",
        "\n",
        "print('\\nProbabilities of Reaching Each End State:')\n",
        "i=0\n",
        "for end_state, probability in probabilities.items():\n",
        "    print(f'{end_state}: {B[0][i]-probability:.4f}')\n",
        "    i+=1"
      ],
      "metadata": {
        "colab": {
          "base_uri": "https://localhost:8080/"
        },
        "id": "OU92gNLZ48qf",
        "outputId": "023b3d71-ca60-40bf-bf10-f6ce0f8c9847"
      },
      "execution_count": null,
      "outputs": [
        {
          "output_type": "stream",
          "name": "stdout",
          "text": [
            "\n",
            "Expected Time to Absorption: 0.03526082733474922\n",
            "Variance of Time to Absorption: 0.7822383112680882\n",
            "\n",
            "Probabilities of Reaching Each End State:\n",
            "Finished course: -0.0003\n",
            "Dropped General: 0.0011\n",
            "fell asleep: -0.0008\n"
          ]
        }
      ]
    }
  ]
}